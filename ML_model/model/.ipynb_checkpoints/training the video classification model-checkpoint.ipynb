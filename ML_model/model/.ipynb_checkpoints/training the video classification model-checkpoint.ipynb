{
 "cells": [
  {
   "cell_type": "markdown",
   "metadata": {},
   "source": [
    "Training Video Classification\n",
    "\n",
    "**Note:** \n",
    "Just run this notebook alone\n",
    "Setup.ipynb and training videos needs to be changed before running all notebooks"
   ]
  },
  {
   "cell_type": "code",
   "execution_count": 1,
   "metadata": {},
   "outputs": [
    {
     "name": "stderr",
     "output_type": "stream",
     "text": [
      "Using TensorFlow backend.\n"
     ]
    }
   ],
   "source": [
    "import keras\n",
    "from keras.models import Sequential\n",
    "from keras.applications.vgg16 import VGG16\n",
    "from keras.layers import Dense, InputLayer, Dropout, Flatten\n",
    "from keras.layers import Conv2D, MaxPooling2D, GlobalMaxPooling2D\n",
    "from keras.preprocessing import image\n",
    "from keras.utils import to_categorical\n",
    "from keras.callbacks import ModelCheckpoint\n",
    "from keras.applications.vgg16 import preprocess_input\n",
    "\n",
    "import numpy as np\n",
    "import pandas as pd\n",
    "import matplotlib.pyplot as plt\n",
    "from tqdm import tqdm\n",
    "from sklearn.model_selection import train_test_split\n",
    "from skimage.transform import resize "
   ]
  },
  {
   "cell_type": "code",
   "execution_count": 2,
   "metadata": {},
   "outputs": [
    {
     "data": {
      "text/html": [
       "<div>\n",
       "<style scoped>\n",
       "    .dataframe tbody tr th:only-of-type {\n",
       "        vertical-align: middle;\n",
       "    }\n",
       "\n",
       "    .dataframe tbody tr th {\n",
       "        vertical-align: top;\n",
       "    }\n",
       "\n",
       "    .dataframe thead th {\n",
       "        text-align: right;\n",
       "    }\n",
       "</style>\n",
       "<table border=\"1\" class=\"dataframe\">\n",
       "  <thead>\n",
       "    <tr style=\"text-align: right;\">\n",
       "      <th></th>\n",
       "      <th>image</th>\n",
       "      <th>class</th>\n",
       "    </tr>\n",
       "  </thead>\n",
       "  <tbody>\n",
       "    <tr>\n",
       "      <th>0</th>\n",
       "      <td>3.mp4_frame1.jpg</td>\n",
       "      <td>1</td>\n",
       "    </tr>\n",
       "    <tr>\n",
       "      <th>1</th>\n",
       "      <td>2.mp4_frame22.jpg</td>\n",
       "      <td>0</td>\n",
       "    </tr>\n",
       "    <tr>\n",
       "      <th>2</th>\n",
       "      <td>2.mp4_frame5.jpg</td>\n",
       "      <td>0</td>\n",
       "    </tr>\n",
       "    <tr>\n",
       "      <th>3</th>\n",
       "      <td>2.mp4_frame4.jpg</td>\n",
       "      <td>0</td>\n",
       "    </tr>\n",
       "    <tr>\n",
       "      <th>4</th>\n",
       "      <td>2.mp4_frame23.jpg</td>\n",
       "      <td>0</td>\n",
       "    </tr>\n",
       "    <tr>\n",
       "      <th>5</th>\n",
       "      <td>3.mp4_frame0.jpg</td>\n",
       "      <td>1</td>\n",
       "    </tr>\n",
       "    <tr>\n",
       "      <th>6</th>\n",
       "      <td>3.mp4_frame2.jpg</td>\n",
       "      <td>1</td>\n",
       "    </tr>\n",
       "    <tr>\n",
       "      <th>7</th>\n",
       "      <td>2.mp4_frame21.jpg</td>\n",
       "      <td>0</td>\n",
       "    </tr>\n",
       "    <tr>\n",
       "      <th>8</th>\n",
       "      <td>2.mp4_frame6.jpg</td>\n",
       "      <td>0</td>\n",
       "    </tr>\n",
       "    <tr>\n",
       "      <th>9</th>\n",
       "      <td>2.mp4_frame7.jpg</td>\n",
       "      <td>0</td>\n",
       "    </tr>\n",
       "    <tr>\n",
       "      <th>10</th>\n",
       "      <td>2.mp4_frame20.jpg</td>\n",
       "      <td>0</td>\n",
       "    </tr>\n",
       "    <tr>\n",
       "      <th>11</th>\n",
       "      <td>3.mp4_frame3.jpg</td>\n",
       "      <td>1</td>\n",
       "    </tr>\n",
       "    <tr>\n",
       "      <th>12</th>\n",
       "      <td>3.mp4_frame7.jpg</td>\n",
       "      <td>1</td>\n",
       "    </tr>\n",
       "    <tr>\n",
       "      <th>13</th>\n",
       "      <td>2.mp4_frame18.jpg</td>\n",
       "      <td>0</td>\n",
       "    </tr>\n",
       "    <tr>\n",
       "      <th>14</th>\n",
       "      <td>2.mp4_frame24.jpg</td>\n",
       "      <td>0</td>\n",
       "    </tr>\n",
       "    <tr>\n",
       "      <th>15</th>\n",
       "      <td>2.mp4_frame3.jpg</td>\n",
       "      <td>0</td>\n",
       "    </tr>\n",
       "    <tr>\n",
       "      <th>16</th>\n",
       "      <td>2.mp4_frame2.jpg</td>\n",
       "      <td>0</td>\n",
       "    </tr>\n",
       "    <tr>\n",
       "      <th>17</th>\n",
       "      <td>2.mp4_frame19.jpg</td>\n",
       "      <td>0</td>\n",
       "    </tr>\n",
       "    <tr>\n",
       "      <th>18</th>\n",
       "      <td>3.mp4_frame6.jpg</td>\n",
       "      <td>1</td>\n",
       "    </tr>\n",
       "    <tr>\n",
       "      <th>19</th>\n",
       "      <td>3.mp4_frame4.jpg</td>\n",
       "      <td>1</td>\n",
       "    </tr>\n",
       "    <tr>\n",
       "      <th>20</th>\n",
       "      <td>2.mp4_frame0.jpg</td>\n",
       "      <td>0</td>\n",
       "    </tr>\n",
       "    <tr>\n",
       "      <th>21</th>\n",
       "      <td>2.mp4_frame1.jpg</td>\n",
       "      <td>0</td>\n",
       "    </tr>\n",
       "    <tr>\n",
       "      <th>22</th>\n",
       "      <td>3.mp4_frame5.jpg</td>\n",
       "      <td>1</td>\n",
       "    </tr>\n",
       "    <tr>\n",
       "      <th>23</th>\n",
       "      <td>1.mp4_frame2.jpg</td>\n",
       "      <td>1</td>\n",
       "    </tr>\n",
       "    <tr>\n",
       "      <th>24</th>\n",
       "      <td>1.mp4_frame3.jpg</td>\n",
       "      <td>1</td>\n",
       "    </tr>\n",
       "    <tr>\n",
       "      <th>25</th>\n",
       "      <td>1.mp4_frame1.jpg</td>\n",
       "      <td>1</td>\n",
       "    </tr>\n",
       "    <tr>\n",
       "      <th>26</th>\n",
       "      <td>1.mp4_frame0.jpg</td>\n",
       "      <td>1</td>\n",
       "    </tr>\n",
       "    <tr>\n",
       "      <th>27</th>\n",
       "      <td>2.mp4_frame17.jpg</td>\n",
       "      <td>0</td>\n",
       "    </tr>\n",
       "    <tr>\n",
       "      <th>28</th>\n",
       "      <td>2.mp4_frame16.jpg</td>\n",
       "      <td>0</td>\n",
       "    </tr>\n",
       "    <tr>\n",
       "      <th>29</th>\n",
       "      <td>2.mp4_frame14.jpg</td>\n",
       "      <td>0</td>\n",
       "    </tr>\n",
       "    <tr>\n",
       "      <th>30</th>\n",
       "      <td>2.mp4_frame15.jpg</td>\n",
       "      <td>0</td>\n",
       "    </tr>\n",
       "    <tr>\n",
       "      <th>31</th>\n",
       "      <td>2.mp4_frame11.jpg</td>\n",
       "      <td>0</td>\n",
       "    </tr>\n",
       "    <tr>\n",
       "      <th>32</th>\n",
       "      <td>2.mp4_frame10.jpg</td>\n",
       "      <td>0</td>\n",
       "    </tr>\n",
       "    <tr>\n",
       "      <th>33</th>\n",
       "      <td>2.mp4_frame12.jpg</td>\n",
       "      <td>0</td>\n",
       "    </tr>\n",
       "    <tr>\n",
       "      <th>34</th>\n",
       "      <td>2.mp4_frame9.jpg</td>\n",
       "      <td>0</td>\n",
       "    </tr>\n",
       "    <tr>\n",
       "      <th>35</th>\n",
       "      <td>2.mp4_frame8.jpg</td>\n",
       "      <td>0</td>\n",
       "    </tr>\n",
       "    <tr>\n",
       "      <th>36</th>\n",
       "      <td>2.mp4_frame13.jpg</td>\n",
       "      <td>0</td>\n",
       "    </tr>\n",
       "  </tbody>\n",
       "</table>\n",
       "</div>"
      ],
      "text/plain": [
       "                image  class\n",
       "0    3.mp4_frame1.jpg      1\n",
       "1   2.mp4_frame22.jpg      0\n",
       "2    2.mp4_frame5.jpg      0\n",
       "3    2.mp4_frame4.jpg      0\n",
       "4   2.mp4_frame23.jpg      0\n",
       "5    3.mp4_frame0.jpg      1\n",
       "6    3.mp4_frame2.jpg      1\n",
       "7   2.mp4_frame21.jpg      0\n",
       "8    2.mp4_frame6.jpg      0\n",
       "9    2.mp4_frame7.jpg      0\n",
       "10  2.mp4_frame20.jpg      0\n",
       "11   3.mp4_frame3.jpg      1\n",
       "12   3.mp4_frame7.jpg      1\n",
       "13  2.mp4_frame18.jpg      0\n",
       "14  2.mp4_frame24.jpg      0\n",
       "15   2.mp4_frame3.jpg      0\n",
       "16   2.mp4_frame2.jpg      0\n",
       "17  2.mp4_frame19.jpg      0\n",
       "18   3.mp4_frame6.jpg      1\n",
       "19   3.mp4_frame4.jpg      1\n",
       "20   2.mp4_frame0.jpg      0\n",
       "21   2.mp4_frame1.jpg      0\n",
       "22   3.mp4_frame5.jpg      1\n",
       "23   1.mp4_frame2.jpg      1\n",
       "24   1.mp4_frame3.jpg      1\n",
       "25   1.mp4_frame1.jpg      1\n",
       "26   1.mp4_frame0.jpg      1\n",
       "27  2.mp4_frame17.jpg      0\n",
       "28  2.mp4_frame16.jpg      0\n",
       "29  2.mp4_frame14.jpg      0\n",
       "30  2.mp4_frame15.jpg      0\n",
       "31  2.mp4_frame11.jpg      0\n",
       "32  2.mp4_frame10.jpg      0\n",
       "33  2.mp4_frame12.jpg      0\n",
       "34   2.mp4_frame9.jpg      0\n",
       "35   2.mp4_frame8.jpg      0\n",
       "36  2.mp4_frame13.jpg      0"
      ]
     },
     "execution_count": 2,
     "metadata": {},
     "output_type": "execute_result"
    }
   ],
   "source": [
    "# read in training frames  \n",
    "train = pd.read_csv('myVids/train_new.csv')\n",
    "train"
   ]
  },
  {
   "cell_type": "markdown",
   "metadata": {},
   "source": [
    "### What is this dataframe showing? \n",
    "\n",
    "This dataframe called \"train\" has two columns: \"image\" and \"class\"\n",
    "- \"image\": contains names of each frame \n",
    "- \"class\": contains corresponding class for each frame\n",
    "\n",
    "##### What does class numbers mean?\n",
    "0 for good serve   \n",
    "1 for bad serve \n",
    "\n",
    "In this case, **video 1 and 3** is a bad serve and **video 2 and 4** are good serves.\n"
   ]
  },
  {
   "cell_type": "code",
   "execution_count": 3,
   "metadata": {},
   "outputs": [
    {
     "name": "stderr",
     "output_type": "stream",
     "text": [
      "100%|██████████| 37/37 [00:00<00:00, 46.73it/s]\n"
     ]
    },
    {
     "data": {
      "text/plain": [
       "(37, 224, 224, 3)"
      ]
     },
     "execution_count": 3,
     "metadata": {},
     "output_type": "execute_result"
    }
   ],
   "source": [
    "train_image = []\n",
    "\n",
    "for i in tqdm(range(train.shape[0])):\n",
    "    # loading the image and keeping the target size as (224,224,3)\n",
    "    img = image.load_img('train_1/'+train['image'][i], target_size=(224,224,3))\n",
    "    # converting it to array\n",
    "    img = image.img_to_array(img)\n",
    "    # normalizing the pixel value\n",
    "    img = img/255\n",
    "    # appending the image to the train_image list\n",
    "    train_image.append(img)\n",
    "    \n",
    "# converting the list to numpy array\n",
    "X = np.array(train_image)\n",
    "\n",
    "# shape of the array\n",
    "X.shape"
   ]
  },
  {
   "cell_type": "markdown",
   "metadata": {},
   "source": [
    "We have 37 images each of size 224, 224 and 3. Next we will create a validation set. \n",
    "\n",
    "We need to do **two** things to train our model: \n",
    "- train images\n",
    "- their corresponding model "
   ]
  },
  {
   "cell_type": "code",
   "execution_count": 4,
   "metadata": {},
   "outputs": [],
   "source": [
    "y = train[\"class\"]"
   ]
  },
  {
   "cell_type": "markdown",
   "metadata": {},
   "source": [
    "### One hot Encoding Classes \n",
    "\n",
    "Since we have 2 classes: 0 and 1 (which are numerical data) we need to convert to categorical\n",
    "\n",
    "[Click me for more info on one hot encoding](https://machinelearningmastery.com/why-one-hot-encode-data-in-machine-learning/)"
   ]
  },
  {
   "cell_type": "code",
   "execution_count": 5,
   "metadata": {},
   "outputs": [],
   "source": [
    "dummy_y = to_categorical(y)    # one hot encoding Classes"
   ]
  },
  {
   "cell_type": "markdown",
   "metadata": {},
   "source": [
    "### VGG16 parameters\n",
    "\n",
    "VGG16 takes an input shape of (224 x 224 x 3) \n",
    "\n",
    "Our images are all different sizes so let's reshape them using resize() function. "
   ]
  },
  {
   "cell_type": "code",
   "execution_count": 6,
   "metadata": {},
   "outputs": [
    {
     "name": "stderr",
     "output_type": "stream",
     "text": [
      "/usr/local/anaconda3/lib/python3.7/site-packages/skimage/transform/_warps.py:105: UserWarning: The default mode, 'constant', will be changed to 'reflect' in skimage 0.15.\n",
      "  warn(\"The default mode, 'constant', will be changed to 'reflect' in \"\n",
      "/usr/local/anaconda3/lib/python3.7/site-packages/skimage/transform/_warps.py:110: UserWarning: Anti-aliasing will be enabled by default in skimage 0.15 to avoid aliasing artifacts when down-sampling images.\n",
      "  warn(\"Anti-aliasing will be enabled by default in skimage 0.15 to \"\n"
     ]
    }
   ],
   "source": [
    "image = []\n",
    "for i in range(0,X.shape[0]): \n",
    "    a = resize(X[i], preserve_range=True, output_shape=(224,224)).astype(int)      # reshaping to 224*224*3\n",
    "    image.append(a)\n",
    "X = np.array(image)"
   ]
  },
  {
   "cell_type": "markdown",
   "metadata": {},
   "source": [
    "### Preprocess \n",
    "\n",
    "This function preprocess our images so that it fits within the VGG16 model "
   ]
  },
  {
   "cell_type": "code",
   "execution_count": 7,
   "metadata": {},
   "outputs": [],
   "source": [
    "X = preprocess_input(X, mode='tf')      # preprocessing the input dat"
   ]
  },
  {
   "cell_type": "markdown",
   "metadata": {},
   "source": [
    "### Split ya models \n",
    "Why do we need to split our models? Because right now we only have training images, we need to have a validation set to check the performance of models on unseen images "
   ]
  },
  {
   "cell_type": "code",
   "execution_count": 8,
   "metadata": {},
   "outputs": [],
   "source": [
    "X_train, X_valid, y_train, y_valid = train_test_split(X, dummy_y, test_size=0.3, random_state=42)    # preparing the validation set"
   ]
  },
  {
   "cell_type": "markdown",
   "metadata": {},
   "source": [
    "### Let's build the model from VGG16"
   ]
  },
  {
   "cell_type": "code",
   "execution_count": 9,
   "metadata": {},
   "outputs": [
    {
     "name": "stdout",
     "output_type": "stream",
     "text": [
      "WARNING:tensorflow:From /usr/local/anaconda3/lib/python3.7/site-packages/tensorflow/python/ops/resource_variable_ops.py:435: colocate_with (from tensorflow.python.framework.ops) is deprecated and will be removed in a future version.\n",
      "Instructions for updating:\n",
      "Colocations handled automatically by placer.\n"
     ]
    }
   ],
   "source": [
    "\n",
    "base_model = VGG16(weights='imagenet', include_top=False, input_shape=(224, 224, 3)) \n"
   ]
  },
  {
   "cell_type": "markdown",
   "metadata": {},
   "source": [
    "### Why include_top = False\n",
    "\n",
    "Fully connected layers at the end can only take fixed size inputs which was probably where we were going wrong "
   ]
  },
  {
   "cell_type": "code",
   "execution_count": 10,
   "metadata": {},
   "outputs": [
    {
     "data": {
      "text/plain": [
       "((25, 7, 7, 512), (12, 7, 7, 512))"
      ]
     },
     "execution_count": 10,
     "metadata": {},
     "output_type": "execute_result"
    }
   ],
   "source": [
    "X_train = base_model.predict(X_train)\n",
    "X_valid = base_model.predict(X_valid)\n",
    "X_train.shape, X_valid.shape"
   ]
  },
  {
   "cell_type": "markdown",
   "metadata": {},
   "source": [
    "Shape into single dimensions by below: "
   ]
  },
  {
   "cell_type": "code",
   "execution_count": 11,
   "metadata": {},
   "outputs": [],
   "source": [
    "X_train = X_train.reshape(25, 7*7*512)\n",
    "X_valid = X_valid.reshape(12, 7*7*512)"
   ]
  },
  {
   "cell_type": "code",
   "execution_count": 12,
   "metadata": {},
   "outputs": [],
   "source": [
    "#normalize me \n",
    "train = X_train/X_train.max()      \n",
    "X_valid = X_valid/X_train.max()"
   ]
  },
  {
   "cell_type": "markdown",
   "metadata": {},
   "source": [
    "### Steps to setting up model \n",
    "1. Build model \n",
    "2. Compile model \n",
    "3. Train model "
   ]
  },
  {
   "cell_type": "code",
   "execution_count": 13,
   "metadata": {},
   "outputs": [],
   "source": [
    "model = Sequential()\n",
    "model.add(InputLayer((7*7*512,)))    # input layer\n",
    "model.add(Dense(units=1024, activation='sigmoid')) # hidden layer\n",
    "model.add(Dense(2, activation='softmax'))    # output layer"
   ]
  },
  {
   "cell_type": "code",
   "execution_count": 14,
   "metadata": {},
   "outputs": [
    {
     "name": "stdout",
     "output_type": "stream",
     "text": [
      "Model: \"sequential_1\"\n",
      "_________________________________________________________________\n",
      "Layer (type)                 Output Shape              Param #   \n",
      "=================================================================\n",
      "dense_1 (Dense)              (None, 1024)              25691136  \n",
      "_________________________________________________________________\n",
      "dense_2 (Dense)              (None, 2)                 2050      \n",
      "=================================================================\n",
      "Total params: 25,693,186\n",
      "Trainable params: 25,693,186\n",
      "Non-trainable params: 0\n",
      "_________________________________________________________________\n"
     ]
    }
   ],
   "source": [
    "model.summary()"
   ]
  },
  {
   "cell_type": "markdown",
   "metadata": {},
   "source": [
    "### What does model.summary() show us? \n",
    "\n",
    "We have a hidden layer with 1,024 neurons and output layer with 2 neurons(3 classes to predict) "
   ]
  },
  {
   "cell_type": "code",
   "execution_count": 15,
   "metadata": {},
   "outputs": [],
   "source": [
    "model.compile(loss='categorical_crossentropy', optimizer='adam', metrics=['accuracy'])"
   ]
  },
  {
   "cell_type": "code",
   "execution_count": 16,
   "metadata": {},
   "outputs": [
    {
     "name": "stdout",
     "output_type": "stream",
     "text": [
      "WARNING:tensorflow:From /usr/local/anaconda3/lib/python3.7/site-packages/tensorflow/python/ops/math_ops.py:3066: to_int32 (from tensorflow.python.ops.math_ops) is deprecated and will be removed in a future version.\n",
      "Instructions for updating:\n",
      "Use tf.cast instead.\n",
      "Train on 25 samples, validate on 12 samples\n",
      "Epoch 1/100\n",
      "25/25 [==============================] - 0s 17ms/step - loss: 0.6624 - accuracy: 0.6800 - val_loss: 1.4086 - val_accuracy: 0.6667\n",
      "Epoch 2/100\n",
      "25/25 [==============================] - 0s 12ms/step - loss: 1.3530 - accuracy: 0.6800 - val_loss: 0.9128 - val_accuracy: 0.6667\n",
      "Epoch 3/100\n",
      "25/25 [==============================] - 0s 11ms/step - loss: 0.8795 - accuracy: 0.6800 - val_loss: 0.7063 - val_accuracy: 0.3333\n",
      "Epoch 4/100\n",
      "25/25 [==============================] - 0s 11ms/step - loss: 0.7072 - accuracy: 0.3200 - val_loss: 0.9387 - val_accuracy: 0.3333\n",
      "Epoch 5/100\n",
      "25/25 [==============================] - 0s 12ms/step - loss: 0.9506 - accuracy: 0.3200 - val_loss: 0.6981 - val_accuracy: 0.3333\n",
      "Epoch 6/100\n",
      "25/25 [==============================] - 0s 13ms/step - loss: 0.6984 - accuracy: 0.3200 - val_loss: 0.6742 - val_accuracy: 0.6667\n",
      "Epoch 7/100\n",
      "25/25 [==============================] - 0s 12ms/step - loss: 0.6568 - accuracy: 0.6800 - val_loss: 0.8164 - val_accuracy: 0.6667\n",
      "Epoch 8/100\n",
      "25/25 [==============================] - 0s 14ms/step - loss: 0.7883 - accuracy: 0.6800 - val_loss: 0.8282 - val_accuracy: 0.6667\n",
      "Epoch 9/100\n",
      "25/25 [==============================] - 0s 11ms/step - loss: 0.7994 - accuracy: 0.6800 - val_loss: 0.7192 - val_accuracy: 0.6667\n",
      "Epoch 10/100\n",
      "25/25 [==============================] - 0s 14ms/step - loss: 0.6976 - accuracy: 0.6800 - val_loss: 0.6364 - val_accuracy: 0.6667\n",
      "Epoch 11/100\n",
      "25/25 [==============================] - 0s 13ms/step - loss: 0.6264 - accuracy: 0.6800 - val_loss: 0.7002 - val_accuracy: 0.3333\n",
      "Epoch 12/100\n",
      "25/25 [==============================] - 0s 13ms/step - loss: 0.7006 - accuracy: 0.3200 - val_loss: 0.7387 - val_accuracy: 0.3333\n",
      "Epoch 13/100\n",
      "25/25 [==============================] - 0s 11ms/step - loss: 0.7417 - accuracy: 0.3200 - val_loss: 0.6672 - val_accuracy: 0.6667\n",
      "Epoch 14/100\n",
      "25/25 [==============================] - 0s 14ms/step - loss: 0.6647 - accuracy: 0.6800 - val_loss: 0.6392 - val_accuracy: 0.6667\n",
      "Epoch 15/100\n",
      "25/25 [==============================] - 0s 11ms/step - loss: 0.6274 - accuracy: 0.6800 - val_loss: 0.6909 - val_accuracy: 0.6667\n",
      "Epoch 16/100\n",
      "25/25 [==============================] - 0s 10ms/step - loss: 0.6716 - accuracy: 0.6800 - val_loss: 0.7225 - val_accuracy: 0.6667\n",
      "Epoch 17/100\n",
      "25/25 [==============================] - 1s 20ms/step - loss: 0.7005 - accuracy: 0.6800 - val_loss: 0.6935 - val_accuracy: 0.6667\n",
      "Epoch 18/100\n",
      "25/25 [==============================] - 0s 15ms/step - loss: 0.6739 - accuracy: 0.6800 - val_loss: 0.6449 - val_accuracy: 0.6667\n",
      "Epoch 19/100\n",
      "25/25 [==============================] - 0s 13ms/step - loss: 0.6315 - accuracy: 0.6800 - val_loss: 0.6425 - val_accuracy: 0.6667\n",
      "Epoch 20/100\n",
      "25/25 [==============================] - 0s 15ms/step - loss: 0.6361 - accuracy: 0.6800 - val_loss: 0.6733 - val_accuracy: 0.6667\n",
      "Epoch 21/100\n",
      "25/25 [==============================] - 0s 13ms/step - loss: 0.6713 - accuracy: 0.6800 - val_loss: 0.6657 - val_accuracy: 0.6667\n",
      "Epoch 22/100\n",
      "25/25 [==============================] - 0s 12ms/step - loss: 0.6629 - accuracy: 0.6800 - val_loss: 0.6380 - val_accuracy: 0.6667\n",
      "Epoch 23/100\n",
      "25/25 [==============================] - 0s 16ms/step - loss: 0.6302 - accuracy: 0.6800 - val_loss: 0.6451 - val_accuracy: 0.6667\n",
      "Epoch 24/100\n",
      "25/25 [==============================] - 0s 14ms/step - loss: 0.6315 - accuracy: 0.6800 - val_loss: 0.6702 - val_accuracy: 0.6667\n",
      "Epoch 25/100\n",
      "25/25 [==============================] - 0s 12ms/step - loss: 0.6527 - accuracy: 0.6800 - val_loss: 0.6717 - val_accuracy: 0.6667\n",
      "Epoch 26/100\n",
      "25/25 [==============================] - 0s 15ms/step - loss: 0.6541 - accuracy: 0.6800 - val_loss: 0.6490 - val_accuracy: 0.6667\n",
      "Epoch 27/100\n",
      "25/25 [==============================] - 0s 14ms/step - loss: 0.6345 - accuracy: 0.6800 - val_loss: 0.6354 - val_accuracy: 0.6667\n",
      "Epoch 28/100\n",
      "25/25 [==============================] - 0s 14ms/step - loss: 0.6256 - accuracy: 0.6800 - val_loss: 0.6453 - val_accuracy: 0.6667\n",
      "Epoch 29/100\n",
      "25/25 [==============================] - 1s 23ms/step - loss: 0.6394 - accuracy: 0.6800 - val_loss: 0.6501 - val_accuracy: 0.6667\n",
      "Epoch 30/100\n",
      "25/25 [==============================] - 0s 16ms/step - loss: 0.6451 - accuracy: 0.6800 - val_loss: 0.6388 - val_accuracy: 0.6667\n",
      "Epoch 31/100\n",
      "25/25 [==============================] - 0s 14ms/step - loss: 0.6313 - accuracy: 0.6800 - val_loss: 0.6368 - val_accuracy: 0.6667\n",
      "Epoch 32/100\n",
      "25/25 [==============================] - 0s 19ms/step - loss: 0.6253 - accuracy: 0.6800 - val_loss: 0.6490 - val_accuracy: 0.6667\n",
      "Epoch 33/100\n",
      "25/25 [==============================] - 0s 20ms/step - loss: 0.6342 - accuracy: 0.6800 - val_loss: 0.6538 - val_accuracy: 0.6667\n",
      "Epoch 34/100\n",
      "25/25 [==============================] - 0s 17ms/step - loss: 0.6382 - accuracy: 0.6800 - val_loss: 0.6440 - val_accuracy: 0.6667\n",
      "Epoch 35/100\n",
      "25/25 [==============================] - 0s 19ms/step - loss: 0.6302 - accuracy: 0.6800 - val_loss: 0.6352 - val_accuracy: 0.6667\n",
      "Epoch 36/100\n",
      "25/25 [==============================] - 0s 16ms/step - loss: 0.6245 - accuracy: 0.6800 - val_loss: 0.6380 - val_accuracy: 0.6667\n",
      "Epoch 37/100\n",
      "25/25 [==============================] - 0s 15ms/step - loss: 0.6302 - accuracy: 0.6800 - val_loss: 0.6406 - val_accuracy: 0.6667\n",
      "Epoch 38/100\n",
      "25/25 [==============================] - 0s 15ms/step - loss: 0.6336 - accuracy: 0.6800 - val_loss: 0.6360 - val_accuracy: 0.6667\n",
      "Epoch 39/100\n",
      "25/25 [==============================] - 0s 16ms/step - loss: 0.6274 - accuracy: 0.6800 - val_loss: 0.6358 - val_accuracy: 0.6667\n",
      "Epoch 40/100\n",
      "25/25 [==============================] - 0s 19ms/step - loss: 0.6243 - accuracy: 0.6800 - val_loss: 0.6423 - val_accuracy: 0.6667\n",
      "Epoch 41/100\n",
      "25/25 [==============================] - 0s 15ms/step - loss: 0.6286 - accuracy: 0.6800 - val_loss: 0.6443 - val_accuracy: 0.6667\n",
      "Epoch 42/100\n",
      "25/25 [==============================] - 0s 15ms/step - loss: 0.6301 - accuracy: 0.6800 - val_loss: 0.6385 - val_accuracy: 0.6667\n",
      "Epoch 43/100\n",
      "25/25 [==============================] - 0s 10ms/step - loss: 0.6258 - accuracy: 0.6800 - val_loss: 0.6345 - val_accuracy: 0.6667\n",
      "Epoch 44/100\n",
      "25/25 [==============================] - 0s 10ms/step - loss: 0.6240 - accuracy: 0.6800 - val_loss: 0.6358 - val_accuracy: 0.6667\n",
      "Epoch 45/100\n",
      "25/25 [==============================] - 0s 12ms/step - loss: 0.6271 - accuracy: 0.6800 - val_loss: 0.6360 - val_accuracy: 0.6667\n",
      "Epoch 46/100\n",
      "25/25 [==============================] - 0s 11ms/step - loss: 0.6274 - accuracy: 0.6800 - val_loss: 0.6342 - val_accuracy: 0.6667\n",
      "Epoch 47/100\n",
      "25/25 [==============================] - 0s 13ms/step - loss: 0.6241 - accuracy: 0.6800 - val_loss: 0.6361 - val_accuracy: 0.6667\n",
      "Epoch 48/100\n",
      "25/25 [==============================] - 0s 14ms/step - loss: 0.6240 - accuracy: 0.6800 - val_loss: 0.6394 - val_accuracy: 0.6667\n",
      "Epoch 49/100\n",
      "25/25 [==============================] - 0s 13ms/step - loss: 0.6261 - accuracy: 0.6800 - val_loss: 0.6385 - val_accuracy: 0.6667\n",
      "Epoch 50/100\n",
      "25/25 [==============================] - 0s 14ms/step - loss: 0.6254 - accuracy: 0.6800 - val_loss: 0.6350 - val_accuracy: 0.6667\n",
      "Epoch 51/100\n",
      "25/25 [==============================] - 0s 11ms/step - loss: 0.6233 - accuracy: 0.6800 - val_loss: 0.6340 - val_accuracy: 0.6667\n",
      "Epoch 52/100\n",
      "25/25 [==============================] - 0s 9ms/step - loss: 0.6238 - accuracy: 0.6800 - val_loss: 0.6345 - val_accuracy: 0.6667\n",
      "Epoch 53/100\n",
      "25/25 [==============================] - 0s 10ms/step - loss: 0.6250 - accuracy: 0.6800 - val_loss: 0.6339 - val_accuracy: 0.6667\n",
      "Epoch 54/100\n",
      "25/25 [==============================] - 0s 9ms/step - loss: 0.6237 - accuracy: 0.6800 - val_loss: 0.6343 - val_accuracy: 0.6667\n",
      "Epoch 55/100\n",
      "25/25 [==============================] - 0s 10ms/step - loss: 0.6227 - accuracy: 0.6800 - val_loss: 0.6364 - val_accuracy: 0.6667\n",
      "Epoch 56/100\n",
      "25/25 [==============================] - 0s 9ms/step - loss: 0.6237 - accuracy: 0.6800 - val_loss: 0.6368 - val_accuracy: 0.6667\n"
     ]
    },
    {
     "name": "stdout",
     "output_type": "stream",
     "text": [
      "Epoch 57/100\n",
      "25/25 [==============================] - 0s 10ms/step - loss: 0.6238 - accuracy: 0.6800 - val_loss: 0.6348 - val_accuracy: 0.6667\n",
      "Epoch 58/100\n",
      "25/25 [==============================] - 0s 9ms/step - loss: 0.6227 - accuracy: 0.6800 - val_loss: 0.6335 - val_accuracy: 0.6667\n",
      "Epoch 59/100\n",
      "25/25 [==============================] - 0s 9ms/step - loss: 0.6225 - accuracy: 0.6800 - val_loss: 0.6335 - val_accuracy: 0.6667\n",
      "Epoch 60/100\n",
      "25/25 [==============================] - 0s 9ms/step - loss: 0.6232 - accuracy: 0.6800 - val_loss: 0.6333 - val_accuracy: 0.6667\n",
      "Epoch 61/100\n",
      "25/25 [==============================] - 0s 9ms/step - loss: 0.6227 - accuracy: 0.6800 - val_loss: 0.6336 - val_accuracy: 0.6667\n",
      "Epoch 62/100\n",
      "25/25 [==============================] - 0s 9ms/step - loss: 0.6220 - accuracy: 0.6800 - val_loss: 0.6349 - val_accuracy: 0.6667\n",
      "Epoch 63/100\n",
      "25/25 [==============================] - 0s 9ms/step - loss: 0.6223 - accuracy: 0.6800 - val_loss: 0.6352 - val_accuracy: 0.6667\n",
      "Epoch 64/100\n",
      "25/25 [==============================] - 0s 10ms/step - loss: 0.6225 - accuracy: 0.6800 - val_loss: 0.6340 - val_accuracy: 0.6667\n",
      "Epoch 65/100\n",
      "25/25 [==============================] - 0s 9ms/step - loss: 0.6218 - accuracy: 0.6800 - val_loss: 0.6330 - val_accuracy: 0.6667\n",
      "Epoch 66/100\n",
      "25/25 [==============================] - 0s 9ms/step - loss: 0.6217 - accuracy: 0.6800 - val_loss: 0.6328 - val_accuracy: 0.6667\n",
      "Epoch 67/100\n",
      "25/25 [==============================] - 0s 9ms/step - loss: 0.6219 - accuracy: 0.6800 - val_loss: 0.6328 - val_accuracy: 0.6667\n",
      "Epoch 68/100\n",
      "25/25 [==============================] - 0s 9ms/step - loss: 0.6216 - accuracy: 0.6800 - val_loss: 0.6331 - val_accuracy: 0.6667\n",
      "Epoch 69/100\n",
      "25/25 [==============================] - 0s 9ms/step - loss: 0.6212 - accuracy: 0.6800 - val_loss: 0.6339 - val_accuracy: 0.6667\n",
      "Epoch 70/100\n",
      "25/25 [==============================] - 0s 9ms/step - loss: 0.6214 - accuracy: 0.6800 - val_loss: 0.6340 - val_accuracy: 0.6667\n",
      "Epoch 71/100\n",
      "25/25 [==============================] - 0s 9ms/step - loss: 0.6213 - accuracy: 0.6800 - val_loss: 0.6331 - val_accuracy: 0.6667\n",
      "Epoch 72/100\n",
      "25/25 [==============================] - 0s 10ms/step - loss: 0.6209 - accuracy: 0.6800 - val_loss: 0.6325 - val_accuracy: 0.6667\n",
      "Epoch 73/100\n",
      "25/25 [==============================] - 0s 9ms/step - loss: 0.6209 - accuracy: 0.6800 - val_loss: 0.6323 - val_accuracy: 0.6667\n",
      "Epoch 74/100\n",
      "25/25 [==============================] - 0s 9ms/step - loss: 0.6209 - accuracy: 0.6800 - val_loss: 0.6323 - val_accuracy: 0.6667\n",
      "Epoch 75/100\n",
      "25/25 [==============================] - 0s 10ms/step - loss: 0.6206 - accuracy: 0.6800 - val_loss: 0.6327 - val_accuracy: 0.6667\n",
      "Epoch 76/100\n",
      "25/25 [==============================] - 0s 9ms/step - loss: 0.6205 - accuracy: 0.6800 - val_loss: 0.6332 - val_accuracy: 0.6667\n",
      "Epoch 77/100\n",
      "25/25 [==============================] - 0s 9ms/step - loss: 0.6205 - accuracy: 0.6800 - val_loss: 0.6330 - val_accuracy: 0.6667\n",
      "Epoch 78/100\n",
      "25/25 [==============================] - 0s 11ms/step - loss: 0.6203 - accuracy: 0.6800 - val_loss: 0.6323 - val_accuracy: 0.6667\n",
      "Epoch 79/100\n",
      "25/25 [==============================] - 0s 11ms/step - loss: 0.6201 - accuracy: 0.6800 - val_loss: 0.6319 - val_accuracy: 0.6667\n",
      "Epoch 80/100\n",
      "25/25 [==============================] - 0s 9ms/step - loss: 0.6201 - accuracy: 0.6800 - val_loss: 0.6318 - val_accuracy: 0.6667\n",
      "Epoch 81/100\n",
      "25/25 [==============================] - 0s 13ms/step - loss: 0.6200 - accuracy: 0.6800 - val_loss: 0.6320 - val_accuracy: 0.6667\n",
      "Epoch 82/100\n",
      "25/25 [==============================] - 0s 11ms/step - loss: 0.6198 - accuracy: 0.6800 - val_loss: 0.6323 - val_accuracy: 0.6667\n",
      "Epoch 83/100\n",
      "25/25 [==============================] - 0s 10ms/step - loss: 0.6197 - accuracy: 0.6800 - val_loss: 0.6324 - val_accuracy: 0.6667\n",
      "Epoch 84/100\n",
      "25/25 [==============================] - 0s 10ms/step - loss: 0.6196 - accuracy: 0.6800 - val_loss: 0.6320 - val_accuracy: 0.6667\n",
      "Epoch 85/100\n",
      "25/25 [==============================] - 0s 9ms/step - loss: 0.6194 - accuracy: 0.6800 - val_loss: 0.6316 - val_accuracy: 0.6667\n",
      "Epoch 86/100\n",
      "25/25 [==============================] - 0s 9ms/step - loss: 0.6193 - accuracy: 0.6800 - val_loss: 0.6314 - val_accuracy: 0.6667\n",
      "Epoch 87/100\n",
      "25/25 [==============================] - 0s 9ms/step - loss: 0.6192 - accuracy: 0.6800 - val_loss: 0.6314 - val_accuracy: 0.6667\n",
      "Epoch 88/100\n",
      "25/25 [==============================] - 0s 9ms/step - loss: 0.6190 - accuracy: 0.6800 - val_loss: 0.6316 - val_accuracy: 0.6667\n",
      "Epoch 89/100\n",
      "25/25 [==============================] - 0s 9ms/step - loss: 0.6189 - accuracy: 0.6800 - val_loss: 0.6318 - val_accuracy: 0.6667\n",
      "Epoch 90/100\n",
      "25/25 [==============================] - 0s 9ms/step - loss: 0.6188 - accuracy: 0.6800 - val_loss: 0.6316 - val_accuracy: 0.6667\n",
      "Epoch 91/100\n",
      "25/25 [==============================] - 0s 9ms/step - loss: 0.6187 - accuracy: 0.6800 - val_loss: 0.6312 - val_accuracy: 0.6667\n",
      "Epoch 92/100\n",
      "25/25 [==============================] - 0s 9ms/step - loss: 0.6185 - accuracy: 0.6800 - val_loss: 0.6310 - val_accuracy: 0.6667\n",
      "Epoch 93/100\n",
      "25/25 [==============================] - 0s 9ms/step - loss: 0.6184 - accuracy: 0.6800 - val_loss: 0.6309 - val_accuracy: 0.6667\n",
      "Epoch 94/100\n",
      "25/25 [==============================] - 0s 9ms/step - loss: 0.6183 - accuracy: 0.6800 - val_loss: 0.6310 - val_accuracy: 0.6667\n",
      "Epoch 95/100\n",
      "25/25 [==============================] - 0s 11ms/step - loss: 0.6182 - accuracy: 0.6800 - val_loss: 0.6311 - val_accuracy: 0.6667\n",
      "Epoch 96/100\n",
      "25/25 [==============================] - 0s 11ms/step - loss: 0.6180 - accuracy: 0.6800 - val_loss: 0.6310 - val_accuracy: 0.6667\n",
      "Epoch 97/100\n",
      "25/25 [==============================] - 0s 9ms/step - loss: 0.6179 - accuracy: 0.6800 - val_loss: 0.6308 - val_accuracy: 0.6667\n",
      "Epoch 98/100\n",
      "25/25 [==============================] - 0s 9ms/step - loss: 0.6178 - accuracy: 0.6800 - val_loss: 0.6305 - val_accuracy: 0.6667\n",
      "Epoch 99/100\n",
      "25/25 [==============================] - 0s 10ms/step - loss: 0.6177 - accuracy: 0.6800 - val_loss: 0.6304 - val_accuracy: 0.6667\n",
      "Epoch 100/100\n",
      "25/25 [==============================] - 0s 9ms/step - loss: 0.6175 - accuracy: 0.6800 - val_loss: 0.6305 - val_accuracy: 0.6667\n"
     ]
    },
    {
     "data": {
      "text/plain": [
       "<keras.callbacks.callbacks.History at 0x1c318ad7b8>"
      ]
     },
     "execution_count": 16,
     "metadata": {},
     "output_type": "execute_result"
    }
   ],
   "source": [
    "model.fit(train, y_train, epochs=100, validation_data=(X_valid, y_valid))"
   ]
  },
  {
   "cell_type": "markdown",
   "metadata": {},
   "source": [
    "### What does this show us? \n",
    "\n",
    "Accuray of 68%\n",
    "\n",
    "Why so low? Because setup.ipynb needs to be changed because videos are all \"good\""
   ]
  }
 ],
 "metadata": {
  "kernelspec": {
   "display_name": "Python 3",
   "language": "python",
   "name": "python3"
  },
  "language_info": {
   "codemirror_mode": {
    "name": "ipython",
    "version": 3
   },
   "file_extension": ".py",
   "mimetype": "text/x-python",
   "name": "python",
   "nbconvert_exporter": "python",
   "pygments_lexer": "ipython3",
   "version": "3.7.1"
  }
 },
 "nbformat": 4,
 "nbformat_minor": 2
}
