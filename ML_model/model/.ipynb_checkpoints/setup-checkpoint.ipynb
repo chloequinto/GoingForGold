{
 "cells": [
  {
   "cell_type": "markdown",
   "metadata": {},
   "source": [
    "# Setup Script\n",
    "To be run after new videos are added\n",
    "\n",
    "Based on the article [Guide to Build Video Classification Model](https://www.analyticsvidhya.com/blog/2019/09/step-by-step-deep-learning-tutorial-video-classification-python/)\n"
   ]
  },
  {
   "cell_type": "code",
   "execution_count": 1,
   "metadata": {},
   "outputs": [
    {
     "name": "stdout",
     "output_type": "stream",
     "text": [
      "Requirement already satisfied: opencv-python in c:\\users\\stevensuser\\appdata\\local\\programs\\python\\python37\\lib\\site-packages (4.1.1.26)\n",
      "Requirement already satisfied: numpy>=1.14.5 in c:\\users\\stevensuser\\appdata\\local\\programs\\python\\python37\\lib\\site-packages (from opencv-python) (1.17.3)\n"
     ]
    }
   ],
   "source": [
    "!pip3 install opencv-python"
   ]
  },
  {
   "cell_type": "markdown",
   "metadata": {},
   "source": [
    "### Importing Libraries"
   ]
  },
  {
   "cell_type": "code",
   "execution_count": 1,
   "metadata": {
    "collapsed": true
   },
   "outputs": [
    {
     "name": "stderr",
     "output_type": "stream",
     "text": [
      "Using TensorFlow backend.\n",
      "/usr/local/lib/python3.7/site-packages/tensorflow/python/framework/dtypes.py:526: FutureWarning: Passing (type, 1) or '1type' as a synonym of type is deprecated; in a future version of numpy, it will be understood as (type, (1,)) / '(1,)type'.\n",
      "  _np_qint8 = np.dtype([(\"qint8\", np.int8, 1)])\n",
      "/usr/local/lib/python3.7/site-packages/tensorflow/python/framework/dtypes.py:527: FutureWarning: Passing (type, 1) or '1type' as a synonym of type is deprecated; in a future version of numpy, it will be understood as (type, (1,)) / '(1,)type'.\n",
      "  _np_quint8 = np.dtype([(\"quint8\", np.uint8, 1)])\n",
      "/usr/local/lib/python3.7/site-packages/tensorflow/python/framework/dtypes.py:528: FutureWarning: Passing (type, 1) or '1type' as a synonym of type is deprecated; in a future version of numpy, it will be understood as (type, (1,)) / '(1,)type'.\n",
      "  _np_qint16 = np.dtype([(\"qint16\", np.int16, 1)])\n",
      "/usr/local/lib/python3.7/site-packages/tensorflow/python/framework/dtypes.py:529: FutureWarning: Passing (type, 1) or '1type' as a synonym of type is deprecated; in a future version of numpy, it will be understood as (type, (1,)) / '(1,)type'.\n",
      "  _np_quint16 = np.dtype([(\"quint16\", np.uint16, 1)])\n",
      "/usr/local/lib/python3.7/site-packages/tensorflow/python/framework/dtypes.py:530: FutureWarning: Passing (type, 1) or '1type' as a synonym of type is deprecated; in a future version of numpy, it will be understood as (type, (1,)) / '(1,)type'.\n",
      "  _np_qint32 = np.dtype([(\"qint32\", np.int32, 1)])\n",
      "/usr/local/lib/python3.7/site-packages/tensorflow/python/framework/dtypes.py:535: FutureWarning: Passing (type, 1) or '1type' as a synonym of type is deprecated; in a future version of numpy, it will be understood as (type, (1,)) / '(1,)type'.\n",
      "  np_resource = np.dtype([(\"resource\", np.ubyte, 1)])\n"
     ]
    }
   ],
   "source": [
    "import os, os.path\n",
    "import cv2  # for caputring videos\n",
    "import math # for mathematical operations\n",
    "import matplotlib.pyplot as plt # for plotting the images\n",
    "%matplotlib inline\n",
    "import pandas as pd\n",
    "from keras.preprocessing import image # for preprocessing the images\n",
    "import numpy as np # for mathematical operations\n",
    "from keras.utils import np_utils\n",
    "from skimage.transform import resize # for resizing images\n",
    "from sklearn.model_selection import train_test_split\n",
    "from glob import glob\n",
    "from tqdm import tqdm"
   ]
  },
  {
   "cell_type": "markdown",
   "metadata": {},
   "source": [
    "### Storing the name of videos in a dataframe\n",
    "First bit opens the file, reads the file, and splits them by \"enter\"\n",
    "\n",
    "Second bit creates a dataframe and stores the above extracted video names under \"train['video_name']\""
   ]
  },
  {
   "cell_type": "code",
   "execution_count": 2,
   "metadata": {},
   "outputs": [],
   "source": [
    "# open the .txt file which have names of training videos\n",
    "# f = open(\"trainlist_tennis.txt\", \"r\")\n",
    "# temp = f.read()\n",
    "# videos = temp.split(\"\\n\")\n",
    "# print(videos)\n",
    "\n",
    "# creating a dataframe having video names\n",
    "# train = pd.DataFrame()\n",
    "# train['video_name'] = videos\n",
    "# train"
   ]
  },
  {
   "cell_type": "markdown",
   "metadata": {},
   "source": [
    " # Turn the csv files into dataframes\n",
    " Things to prep:\n",
    " 1. Create folder with the name \"training_csv\"\n",
    " 2. Create files with proper naming"
   ]
  },
  {
   "cell_type": "code",
   "execution_count": 33,
   "metadata": {},
   "outputs": [
    {
     "name": "stdout",
     "output_type": "stream",
     "text": [
      "training_file_2_g.csv\n",
      "971\n",
      "      0  451.36205769698444  298.5079397951119\n",
      "0     0          472.888374         294.295588\n",
      "1     0          450.266275         325.520818\n",
      "2     0          487.396074         323.647347\n",
      "3     0          447.174998         338.480410\n",
      "4     0          482.274726         350.279099\n",
      "..   ..                 ...                ...\n",
      "390  32          464.885548         404.525484\n",
      "391  32          444.750644         464.189463\n",
      "392  32          460.349900         463.171197\n",
      "393  32          447.213567         517.477809\n",
      "394  32          458.012040         523.080029\n",
      "\n",
      "[395 rows x 3 columns]\n",
      "training_file_1_b.csv\n",
      "971\n",
      "      0  352.8994311618434  300.01420195464493\n",
      "0     0         384.579361          294.952084\n",
      "1     0         330.887351          338.253606\n",
      "2     0         382.111308          340.842447\n",
      "3     0         337.763140          373.922456\n",
      "4     0         380.449394          389.589255\n",
      "..   ..                ...                 ...\n",
      "750  62         334.069302          353.875614\n",
      "751  62         322.430444          424.067801\n",
      "752  62         333.084783          419.733972\n",
      "753  62         328.236502          487.502090\n",
      "754  62         334.671792          483.996867\n",
      "\n",
      "[755 rows x 3 columns]\n",
      "training_file_3_g.csv\n",
      "971\n",
      "      0  505.66477497264106  247.71175161873782\n",
      "0     0          500.234024          252.696851\n",
      "1     0          503.981962          297.534560\n",
      "2     0          487.416498          300.096469\n",
      "3     0          506.991257          344.661870\n",
      "4     0          501.367757          347.426026\n",
      "..   ..                 ...                 ...\n",
      "522  43          359.203674          305.364586\n",
      "523  43          335.114642          366.090245\n",
      "524  43          360.725991          367.047570\n",
      "525  43          328.660257          415.610656\n",
      "526  43          355.991230          414.953186\n",
      "\n",
      "[527 rows x 3 columns]\n",
      "training_file_1_g.csv\n",
      "971\n",
      "      0  426.752397707928  275.9030353234436\n",
      "0     0        394.310455         277.394716\n",
      "1     0        435.082628         331.251330\n",
      "2     0        386.048717         333.176146\n",
      "3     0        410.764179         369.639403\n",
      "4     0        371.327774         365.263064\n",
      "..   ..               ...                ...\n",
      "966  80        424.101477         358.919397\n",
      "967  80        380.217128         422.759701\n",
      "968  80        414.270590         423.705627\n",
      "969  80        394.806241         485.773869\n",
      "970  80        415.025478         485.073556\n",
      "\n",
      "[971 rows x 3 columns]\n"
     ]
    }
   ],
   "source": [
    "path=\"dataPoints/\"\n",
    "\n",
    "trainFrame = {}\n",
    "\n",
    "for filename in glob(os.path.join(path, '*.csv')):\n",
    "    file = filename.split(\"/\")[1]\n",
    "    print(file)\n",
    "    \n",
    "    for i in range(0, len(glob(os.path.join(path, '*.csv')))):\n",
    "        openFile = pd.read_csv(\"dataPoints/\" + file, header = None)\n",
    "        \n",
    "        from numpy import genfromtxt\n",
    "    my_data = genfromtxt(openFile, delimiter=',')\n",
    "#         convertArray = openFile.to_numpy()\n",
    "        \n",
    "    print(len(convertArray))\n",
    "    print(openFile)\n",
    "        \n",
    "    size = math.floor(len(openFile)//12)\n",
    "    #print(np.array_split(openFile, size))\n",
    "    \n",
    "    \n",
    "#   for j in range (len(trainFrame_i)):\n",
    "#       trainFrame_i[j].reshape((14,1))\n",
    "    \n",
    "#   for j in range (len(trainFrame_i)):\n",
    "#       trainFrame_j[j] = trainFrame_i[j]\n",
    "#       trainFrame_j[j].append(trainFrame_i[j+1])\n",
    "#       trainFrame_j[j].append(trainFrame_i[j+2])"
   ]
  },
  {
   "cell_type": "markdown",
   "metadata": {},
   "source": [
    "### Create a similar dataframe for the test videos\n",
    "Does the same thing as above but for the test video names"
   ]
  },
  {
   "cell_type": "code",
   "execution_count": 8,
   "metadata": {},
   "outputs": [],
   "source": [
    "# # open the .txt file which have names of test videos\n",
    "# f = open(\"testlist_tennis.txt\", \"r\")\n",
    "# temp = f.read()\n",
    "# videos = temp.split('\\n')\n",
    "\n",
    "# # creating a dataframe having video names\n",
    "# test = pd.DataFrame()\n",
    "# test['video_name'] = videos\n",
    "# test"
   ]
  },
  {
   "cell_type": "markdown",
   "metadata": {},
   "source": [
    "# Do the same for test videos"
   ]
  },
  {
   "cell_type": "code",
   "execution_count": null,
   "metadata": {},
   "outputs": [],
   "source": [
    "files = os.listdir(dir) #dir of where we will place folder, to be replaced with actual name\n",
    "\n",
    "for i in range (len(files)):\n",
    "    testFrame_i = pd.read_csv('training_file_', i, '.csv')\n",
    "    testFrame_i = testFrame.to_numpy()\n",
    "    \n",
    "    size = math.floor((len(testFrame_i)/12 * (10 ** 0))/ (10 ** 0))\n",
    "    testFrame_i.split(testFrame_i, size)\n",
    "    \n",
    "    for j in range (len(testFrame_i)):\n",
    "        testFrame_i[j].reshape((14,1))\n",
    "    \n",
    "    for j in range (len(trainFrame_i)):\n",
    "        testFrame_j[j] = testFrame_i[j]\n",
    "        testFrame_j[j].append(testFrame_i[j+1])\n",
    "        testFrame_j[j].append(testFrame_i[j+2])"
   ]
  },
  {
   "cell_type": "markdown",
   "metadata": {},
   "source": [
    "### Adding the tags\n",
    "For both training and test sets: grabs the tag (0 or 1/good or bad serve) from the text file and stores in the respective dataframe."
   ]
  },
  {
   "cell_type": "code",
   "execution_count": 5,
   "metadata": {},
   "outputs": [],
   "source": [
    "# # creating tags for training videos\n",
    "# train_video_tag = []\n",
    "# for i in range(train.shape[0]):\n",
    "#     train_video_tag.append(train['video_name'][i].split('_')[1].split('.')[0])\n",
    "    \n",
    "# train['tag'] = train_video_tag\n",
    "\n",
    "# # creating tags for test videos\n",
    "# test_video_tag = []\n",
    "# for i in range(test.shape[0]):\n",
    "#     test_video_tag.append(test['video_name'][i].split('_')[1].split('.')[0])\n",
    "    \n",
    "# test['tag'] = test_video_tag"
   ]
  },
  {
   "cell_type": "code",
   "execution_count": 9,
   "metadata": {},
   "outputs": [],
   "source": [
    "#This is what the test dataframe looks like \n",
    "# test"
   ]
  },
  {
   "cell_type": "code",
   "execution_count": 10,
   "metadata": {},
   "outputs": [],
   "source": [
    "# This is what the train dataframe looks like \n",
    "# train"
   ]
  },
  {
   "cell_type": "markdown",
   "metadata": {},
   "source": [
    "# Getting the tags\n",
    "This is assuming this is first column of csv file"
   ]
  },
  {
   "cell_type": "code",
   "execution_count": null,
   "metadata": {},
   "outputs": [],
   "source": [
    "train_video_tag = []\n",
    "for i in range(len(files)):\n",
    "    train_video_tag.append(trainFrame_i[0][0])"
   ]
  },
  {
   "cell_type": "markdown",
   "metadata": {},
   "source": [
    "### Frame Extraction and Storing\n",
    "All frames are put in a folder named train_1"
   ]
  },
  {
   "cell_type": "code",
   "execution_count": 11,
   "metadata": {},
   "outputs": [],
   "source": [
    "# # open the .txt file which have names of training videos\n",
    "# f = open(\"trainlist_tennis.txt\", \"r\")\n",
    "# temp = f.read()\n",
    "# videos = temp.split(\"\\n\")\n",
    "\n",
    "# train = pd.DataFrame()\n",
    "# train['video_name'] = videos\n",
    "\n",
    "# # storing the frames from training videos\n",
    "# for i in tqdm(range(len(file))):\n",
    "#     count = 0\n",
    "#     videoFile = train['video_name'][i]\n",
    "#     cap = cv2.VideoCapture('myVids/'+videoFile)   # capturing the video from the given path\n",
    "#     frameRate = cap.get(5) #frame rate\n",
    "#     x=1\n",
    "#     while(cap.isOpened()):\n",
    "#         frameId = cap.get(1) #current frame number\n",
    "#         ret, frame = cap.read()\n",
    "#         if (ret != True):\n",
    "#             break\n",
    "#         if (frameId % math.floor(frameRate) == 0):\n",
    "#             # storing the frames in a new folder named train_1\n",
    "#             print(\"this is the split\")\n",
    "#             print(videoFile.split(\" \")[0]) #since my videos aren't in separate folder, no need to split based on (\"/\")\n",
    "            \n",
    "#             #need to make sure that the train_1 has been created\n",
    "#             filename ='train_1/' + videoFile.split(' ')[0] +\"_frame%d.jpg\" % count;count+=1\n",
    "#             cv2.imwrite(filename, frame)\n",
    "#     cap.release()"
   ]
  },
  {
   "cell_type": "code",
   "execution_count": null,
   "metadata": {},
   "outputs": [],
   "source": [
    "# "
   ]
  },
  {
   "cell_type": "markdown",
   "metadata": {},
   "source": [
    "### .csv file\n",
    "Get the names of all the frames with their corresponding tag and put the info into a .csv file"
   ]
  },
  {
   "cell_type": "code",
   "execution_count": 9,
   "metadata": {},
   "outputs": [
    {
     "name": "stderr",
     "output_type": "stream",
     "text": [
      "100%|██████████████████████████████████████████████████████████████████████████████████████████| 37/37 [00:00<?, ?it/s]\n"
     ]
    }
   ],
   "source": [
    "# #getting the names of all the images\n",
    "# images = glob(\"train_1/*.jpg\")\n",
    "# train_image = []\n",
    "# train_class = []\n",
    "\n",
    "# for i in tqdm(range(len(images))):\n",
    "#     # creating the image name\n",
    "#     train_image.append(images[i].split(\"\\\\\")[1])  #uncomment this for windows\n",
    "#     #train_image.append(images[i].split(\"/\")[1])  #uncomment this for mac\n",
    "#     # creating the class of image\n",
    "#     train_class.append(images[i].split(\"\\\\\")[1].split(\".\")[0].split(\"_\")[1]) #uncomment this for windows\n",
    "#     #train_class.append(images[i].split(\"/\")[1].split(\".\")[0].split(\"_\")[1]) #uncomment this for mac\n",
    "    \n",
    "# # storing the images and their class in a dataframe\n",
    "# train_data = pd.DataFrame()\n",
    "# train_data['image'] = train_image\n",
    "# train_data['class'] = train_class\n",
    "\n",
    "# # converting the dataframe into csv file \n",
    "# train_data.to_csv('myVids/train_new.csv',header=True, index=False)"
   ]
  },
  {
   "cell_type": "code",
   "execution_count": null,
   "metadata": {},
   "outputs": [],
   "source": []
  }
 ],
 "metadata": {
  "kernelspec": {
   "display_name": "Python 3",
   "language": "python",
   "name": "python3"
  },
  "language_info": {
   "codemirror_mode": {
    "name": "ipython",
    "version": 3
   },
   "file_extension": ".py",
   "mimetype": "text/x-python",
   "name": "python",
   "nbconvert_exporter": "python",
   "pygments_lexer": "ipython3",
   "version": "3.7.4"
  }
 },
 "nbformat": 4,
 "nbformat_minor": 2
}
